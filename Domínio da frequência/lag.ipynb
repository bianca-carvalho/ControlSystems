{
 "cells": [
  {
   "cell_type": "markdown",
   "metadata": {},
   "source": [
    "## Projeto do compensador atraso de fase (LAG)\n",
    "\n",
    "### Objetivo\n",
    "Reduzir o erro estacionário com leve alteração da resposta transitória (deixando-a mais lenta)\n",
    "\n",
    "### Características\n",
    "- Reduz o erro \n",
    "- Adiciona um pólo e um zero, ambos no SPE (eixo real)\n",
    "- O pólo deve ser pequeno, e o zero deve estar a esquerda do pólo\n",
    "\n",
    "### Função de Transferência\n",
    "\n",
    "$C(s) = K \\frac{1 + sT}{1 + s\\alpha T} , \\alpha > 0$"
   ]
  },
  {
   "cell_type": "markdown",
   "metadata": {},
   "source": [
    "### Exercício  (SC_Cap6_01, página 03)\n",
    "\n",
    "Projete um controlador em atraso para um sistema de controle com realimentação negativa cujas funções de transferência são dadas abaixo.\n",
    "\n",
    "\n",
    "$G(s) = \\frac{5}{0,2s+1}$\n",
    "$H(s) = \\frac{0,01}{0,04s+1}$\n",
    "\n",
    "\n",
    "Deseja-se obter um erro de regime permanente inferior a 5%, margem de ganho MD > 2, e margem de fase > 30°\n",
    "\n"
   ]
  },
  {
   "cell_type": "code",
   "execution_count": null,
   "metadata": {
    "vscode": {
     "languageId": "plaintext"
    }
   },
   "outputs": [],
   "source": [
    "import sympy as sp\n",
    "\n",
    "# Variáveis\n",
    "s, w = sp.symbols('s w', real=True)\n",
    "\n",
    "# Funções G(s) e H(s)\n",
    "G_s = 5 / (0.2 * s + 1)\n",
    "H_s = 0.01 / (0.04 * s + 1)\n",
    "\n",
    "# s = jw (domínio da frequência)\n",
    "jw = sp.I * w\n",
    "G_jw = G_s.subs(s, jw)\n",
    "H_jw = H_s.subs(s, jw)\n",
    "\n",
    "# Em regime permanente temos w = 0\n",
    "G_0 = G_w.subs(w, 0)\n",
    "H_0 = H_w.subs(w, 0)\n",
    "\n",
    "# Mostrando os resultados\n",
    "print(f\"G(s) = {G_s}\")\n",
    "print(f\"H(s) = {H_s}\")\n",
    "print(f\"G(jw) = {G_w}\")\n",
    "print(f\"H(jw) = {H_w}\")\n",
    "print(f\"G(0) = {G_0}\")\n",
    "print(f\"H(0) = {H_0}\")\n",
    "\n",
    "# Condição de erro em regime permanente\n",
    "erro_max = 5 / 100  # 5% em decimal\n",
    "K_min = (1 / erro_max - 1) / (G_0 * H_0)\n",
    "\n",
    "print(f\"Para e(∞)% < 5.0%, K > {K_min.evalf():.2f}\")\n"
   ]
  }
 ],
 "metadata": {
  "language_info": {
   "name": "python"
  }
 },
 "nbformat": 4,
 "nbformat_minor": 2
}
