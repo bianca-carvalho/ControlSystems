{
 "cells": [
  {
   "cell_type": "markdown",
   "metadata": {},
   "source": [
    "## Projeto do compensador avanço de fase (LEAD)\n",
    "\n",
    "### Objetivo\n",
    "- Tornar a resposta transitória mais rápida\n",
    "- Dentro de uma faixa específica de frequências, adiciona fase suficiente à resposta em frequência do sistema de modo a aumentar sua margem de fase\n",
    "\n",
    "### Características\n",
    "- Acelera a resposta transitória\n",
    "- Adiciona um pólo e um zero, ambos no SPE (eixo real)\n",
    "- O pólo deve estar a esquerda do zero\n",
    "- O pólo e o zero são alocados de modo a incorporar o LR\n",
    "- Pode aumentar o valor do erro em regime permanente\n",
    "\n",
    "### Função de Transferência\n",
    "\n",
    "$C(s) = K \\frac{1 + sT}{1 + s\\alpha T} , 0 < \\alpha < 1$"
   ]
  },
  {
   "cell_type": "markdown",
   "metadata": {},
   "source": [
    "### Exercício  (SC_Cap6_01, exercício 04, página 09)\n",
    "\n",
    "Projete um controlador em atraso para um sistema de controle com realimentação negativa cujas funções de transferência são dadas abaixo.\n",
    "\n",
    "\n",
    "$G(s) = \\frac{5}{0,2s+1}$\n",
    "$H(s) = \\frac{0,01}{0,04s+1}$\n",
    "\n",
    "\n",
    "Deseja-se obter um erro de regime permanente inferior a 2%, margem de ganho MG > 2, e margem de fase MF > 30°\n",
    "\n"
   ]
  },
  {
   "cell_type": "code",
   "execution_count": null,
   "metadata": {},
   "outputs": [],
   "source": [
    "# Bibliotecas necessárias\n",
    "import numpy as np\n",
    "import matplotlib.pyplot as plt\n",
    "import control as ctrl\n",
    "\n",
    "import Funcoes as fc"
   ]
  },
  {
   "cell_type": "code",
   "execution_count": null,
   "metadata": {},
   "outputs": [],
   "source": [
    "# Requisitos do projeto\n",
    "ERRO_DESEJADO = 2/100\n",
    "MG_DESEJADA = 2\n",
    "MF_DESEJADA = 30\n",
    "\n",
    "# Verifica se os requisitos do projeto foram atendidos\n",
    "def testar_requisitos(erro, MF, MG):\n",
    "  requisitos_nao_atendidos = []\n",
    "  if erro > ERRO_DESEJADO:\n",
    "    print(f\"Erro NÃO atendido: {erro:.2%} (máx: {ERRO_DESEJADO:.2%})\")\n",
    "    requisitos_nao_atendidos.append(\"erro\")\n",
    "  if MF <= MF_DESEJADA:\n",
    "    print(f\"Margem de fase NÃO atendida: {MF:.2f}° (mín: {MF_DESEJADA}°)\")\n",
    "    requisitos_nao_atendidos.append(\"MF\")\n",
    "  if MG <= MG_DESEJADA:\n",
    "    print(f\"Margem de ganho NÃO atendida: {MG:.2f} dB (mín: {MG_DESEJADA} dB)\")\n",
    "    requisitos_nao_atendidos.append(\"MG\")\n",
    "  return requisitos_nao_atendidos"
   ]
  },
  {
   "cell_type": "markdown",
   "metadata": {},
   "source": [
    "### Sistema sem compensação\n",
    "$K = 1$ e $C(s) = 1$"
   ]
  },
  {
   "cell_type": "code",
   "execution_count": null,
   "metadata": {},
   "outputs": [],
   "source": [
    "# Funções de transferência\n",
    "G = ctrl.tf([5],[0.2, 1])\n",
    "G0 = G(0).real\n",
    "H = ctrl.tf([0.01],[0.04, 1])\n",
    "H0 = H(0).real\n",
    "\n",
    "erro = fc.erro_estacionario(G0, H0, 1)\n",
    "\n",
    "L_sem_compensacao = G * H\n",
    "\n",
    "MG, MF, _, _, _, _ = fc.margens_de_estabilidade(L_sem_compensacao)\n",
    "\n",
    "resultado = testar_requisitos(erro, MF, MG)\n",
    "\n",
    "if not resultado:\n",
    "  print(f'\\nO sistema sem compensação já atende os requisitos do projeto')\n",
    "else:\n",
    "  print(f'\\nO sistema sem compensação não atende os requisitos do projeto. É necessário projetar um compensador')"
   ]
  },
  {
   "cell_type": "markdown",
   "metadata": {},
   "source": [
    "### Sistema com compensação proporcional\n",
    "$C(s) = k_p$"
   ]
  },
  {
   "cell_type": "code",
   "execution_count": null,
   "metadata": {},
   "outputs": [],
   "source": [
    "K = 1\n",
    "\n",
    "if 'erro' in resultado:\n",
    "  K = float(fc.k_proporcional(G0, H0, ERRO_DESEJADO))\n",
    "  print(f\"Para e(∞) < {ERRO_DESEJADO}, K > {K:.2f}\\n\")\n",
    "  \n",
    "  # A partir do K encontrado, determinar MF e MG e realizar novamente os testes\n",
    "  L_proporcional = K*G*H\n",
    "\n",
    "  # Encontrar margens\n",
    "  MG, MF, freq0db, freq180, fase_freq0db, ganho_freq180 = fc.margens_de_estabilidade(L_proporcional)\n",
    "  \n",
    "  print(f\"Para o sistema com compensação tipo P (k_p = {K:.2f}), temos que:\\n\")\n",
    "  \n",
    "  print(f\"- A frequência de ganho 0dB é {freq0db:.0f} rad/s.\")\n",
    "  print(f\"- A fase na frequência de ganho 0 dB é {fase_freq0db:.2f}°.\\n\")\n",
    "  \n",
    "  print(f\"- A frequência de fase -180° é {freq180:.0f} rad/s.\")\n",
    "  print(f\"- O ganho na frequência de fase -180° é {ganho_freq180:.2f} dB.\\n\")\n",
    "  \n",
    "  print(f\"- A margem de ganho é {MG:.0f} dB.\")\n",
    "  print(f\"- A margem de fase é {MF:.0f}°.\\n\")\n",
    "  \n",
    "  # Testar os requisitos\n",
    "  erro = fc.erro_estacionario(G0, H0, C0 = K)\n",
    "  resultado = testar_requisitos(erro, MF, MG)\n",
    "\n",
    "  if not resultado:\n",
    "    print(f'\\nO compensador proporcional k_p = {K:.2f} foi suficiente para atender os requisitos do projeto')\n",
    "  else:\n",
    "    print(f'\\nO compensador proporcional k_p = {K:.2f} NÃO foi suficiente para atender os requisitos do projeto')"
   ]
  },
  {
   "cell_type": "markdown",
   "metadata": {},
   "source": [
    "### Sistema com compensação Avanço de Fase\n",
    "Nesse caso, temos que o valor da margem de fase é inferior ao desejado.\n",
    "\n",
    "Uma solução é utilizar um compensador avanço de fase para aumentar a margem de fase."
   ]
  },
  {
   "cell_type": "markdown",
   "metadata": {},
   "source": [
    "### Gráfico de variação de $ϕ_m$ em funçao de $α$\n",
    "![graficofasealfa.png](graficofasealfa.png)"
   ]
  },
  {
   "cell_type": "code",
   "execution_count": null,
   "metadata": {},
   "outputs": [],
   "source": [
    "alfa = ''\n",
    "if 'MF' in resultado:\n",
    "  MF_comp = MF_DESEJADA + 10 # compensar os desvios de fase aproximados na elaboração do diagrama de Bode\n",
    "  \n",
    "  acrescimo_fase = MF_comp - MF\n",
    "  avanco_max = acrescimo_fase + 7\n",
    "  \n",
    "  print(f\"Verificar no gráfico de variação de ϕ_m em funçao de α, o valor de α para o ϕ_m = {avanco_max}\\n\", flush=True)\n",
    "  alfa = input(\"Valor de α: \")"
   ]
  },
  {
   "cell_type": "code",
   "execution_count": null,
   "metadata": {},
   "outputs": [],
   "source": [
    "if 'MF' in resultado:\n",
    "  alfa = float(alfa)\n",
    "  mag = np.sqrt(alfa)\n",
    "  magdB = 20*np.log10(mag)\n",
    "  \n",
    "  w = np.logspace(-3, 3, 100000)\n",
    "  ganho, fase, frequencia = ctrl.bode_plot(L_proporcional, w, dB=True, Hz=False, deg=True, plot=False)\n",
    "  ganho = 20*np.log10(ganho)\n",
    "  \n",
    "  indice = np.argmin(np.abs(ganho - magdB))\n",
    "  freq_wm = frequencia[indice]\n",
    "  \n",
    "  T = 1/(freq_wm*mag)\n",
    " \n",
    "  C = ctrl.tf([float(K)*T, float(K)], [alfa*T, 1])\n",
    "  C0 = C(0).real\n",
    "    \n",
    "  L_avanco = G*H*C\n",
    "  \n",
    "  # Encontrar margens\n",
    "  MG, MF, freq0db, freq180, fase_freq0db, ganho_freq180 = fc.margens_de_estabilidade(L_avanco)\n",
    "  \n",
    "  print(f\"Para o sistema com compensação tipo LEAD (K = {K:.2f}, a = {alfa:.2f}, T = {T:.2f}), temos que:\\n\")\n",
    "  \n",
    "  print(f\"- A frequência de ganho 0dB é {freq0db:.0f} rad/s.\")\n",
    "  print(f\"- A fase na frequência de ganho 0 dB é {fase_freq0db:.2f}°.\\n\")\n",
    "  \n",
    "  print(f\"- A frequência de fase -180° é {freq180:.0f} rad/s.\")\n",
    "  print(f\"- O ganho na frequência de fase -180° é {ganho_freq180:.2f} dB.\\n\")\n",
    "  \n",
    "  print(f\"- A margem de ganho é {MG:.0f} dB.\")\n",
    "  print(f\"- A margem de fase é {MF:.0f}°.\")\n",
    "  \n",
    "  # Testar os requisitos\n",
    "  erro = fc.erro_estacionario(G0, H0, C0)\n",
    "  resultado = testar_requisitos(erro, MF, MG)\n",
    "\n",
    "  if not resultado:\n",
    "    print(f'\\nO compensador avanço de fase (K = {K:.2f}, a = {alfa:.2f}, T = {T:.2f}) foi suficiente para atender os requisitos do projeto')\n",
    "  else:\n",
    "    print(f'\\nO compensador avanço de fase (K = {K:.2f}, a = {alfa:.2f}, T = {T:.2f}) NÃO foi suficiente para atender os requisitos do projeto')"
   ]
  },
  {
   "cell_type": "markdown",
   "metadata": {},
   "source": [
    "### Comparando os gráficos com compensação P e LEAD"
   ]
  },
  {
   "cell_type": "code",
   "execution_count": null,
   "metadata": {},
   "outputs": [],
   "source": [
    "w = np.logspace(-3, 3, 100000)\n",
    "\n",
    "ganho1, fase1, frequencia = ctrl.bode_plot(L_proporcional, w, dB=True, Hz=False, deg=True, plot=False)\n",
    "ganho2, fase2, _ = ctrl.bode_plot(L_avanco, w, dB=True, Hz=False, deg=True, plot=False)\n",
    "\n",
    "fig, (ax1, ax2) = plt.subplots(2, 1, figsize=(10, 8))\n",
    "\n",
    "ax1.semilogx(frequencia, 20 * np.log10(ganho1), 'b', label='Compensador P')\n",
    "ax1.semilogx(frequencia, 20 * np.log10(ganho2), 'r--', label='Compensador LEAD')\n",
    "ax1.set_title('Diagrama de Bode')\n",
    "ax1.set_ylabel('magnitude (dB)')\n",
    "ax1.legend()\n",
    "ax1.grid(True, which=\"both\", ls=\"--\")\n",
    "\n",
    "ax2.semilogx(frequencia, np.degrees(fase1), 'b', label='Compensador P')\n",
    "ax2.semilogx(frequencia, np.degrees(fase2), 'r--', label='Compensador LEAD')\n",
    "ax2.set_xlabel('Frequência (rad/s)')\n",
    "ax2.set_ylabel('Fase (graus)')\n",
    "ax2.legend()\n",
    "ax2.grid(True, which=\"both\", ls=\"--\")\n",
    "\n",
    "plt.tight_layout()\n",
    "plt.show()"
   ]
  },
  {
   "cell_type": "code",
   "execution_count": null,
   "metadata": {},
   "outputs": [],
   "source": [
    "T_proporcional = ctrl.feedback(G*K, H)\n",
    "T_avanco = ctrl.feedback(G*C, H)\n",
    "\n",
    "t1, y1 = ctrl.step_response(T_proporcional)\n",
    "t2, y2 = ctrl.step_response(T_avanco)\n",
    "\n",
    "# fazer ambas as respostas para mesmo intervalo de tempo\n",
    "t = np.linspace(0, 1, num=500)\n",
    "y1 = np.interp(t, t1, y1)\n",
    "y2 = np.interp(t, t2, y2)\n",
    "\n",
    "plt.figure(figsize=(10, 6))\n",
    "plt.plot(t, y1, 'b', label='Compensador P')\n",
    "plt.plot(t, y2, 'r--', label='Compensador LEAD')\n",
    "\n",
    "plt.title('Resposta ao Degrau')\n",
    "plt.xlabel('Tempo (s)')\n",
    "plt.ylabel('Amplitude')\n",
    "plt.grid(True, which=\"both\", linestyle=\"--\", linewidth=0.7)\n",
    "plt.legend()\n",
    "plt.tight_layout()\n",
    "plt.show()"
   ]
  }
 ],
 "metadata": {
  "kernelspec": {
   "display_name": "Python 3",
   "language": "python",
   "name": "python3"
  },
  "language_info": {
   "codemirror_mode": {
    "name": "ipython",
    "version": 3
   },
   "file_extension": ".py",
   "mimetype": "text/x-python",
   "name": "python",
   "nbconvert_exporter": "python",
   "pygments_lexer": "ipython3",
   "version": "3.10.12"
  }
 },
 "nbformat": 4,
 "nbformat_minor": 2
}
