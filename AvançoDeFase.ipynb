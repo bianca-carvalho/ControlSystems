{
 "cells": [
  {
   "cell_type": "markdown",
   "metadata": {},
   "source": [
    "## Projeto do compensador avanço de fase (LEAD)\n",
    "\n",
    "### Objetivo\n",
    "- Tornar a resposta transitória mais rápida\n",
    "- Dentro de uma faixa específica de frequências, adiciona fase suficiente à resposta em frequência do sistema de modo a aumentar sua margem de fase\n",
    "\n",
    "### Características\n",
    "- Acelera a resposta transitória\n",
    "- Adiciona um pólo e um zero, ambos no SPE (eixo real)\n",
    "- O pólo deve estar a esquerda do zero\n",
    "- O pólo e o zero são alocados de modo a incorporar o LR\n",
    "- Pode aumentar o valor do erro em regime permanente\n",
    "\n",
    "### Função de Transferência\n",
    "\n",
    "$C(s) = K \\frac{1 + sT}{1 + s\\alpha T} , 0 < \\alpha < 1$"
   ]
  },
  {
   "cell_type": "markdown",
   "metadata": {},
   "source": [
    "### Exercício  (SC_Cap6_01, exercício 04, página 09)\n",
    "\n",
    "Projete um controlador em atraso para um sistema de controle com realimentação negativa cujas funções de transferência são dadas abaixo.\n",
    "\n",
    "\n",
    "$G(s) = \\frac{5}{0,2s+1}$\n",
    "$H(s) = \\frac{0,01}{0,04s+1}$\n",
    "\n",
    "\n",
    "Deseja-se obter um erro de regime permanente inferior a 2%, margem de ganho MG > 2, e margem de fase MF > 30°\n",
    "\n"
   ]
  },
  {
   "cell_type": "code",
   "execution_count": null,
   "metadata": {},
   "outputs": [],
   "source": [
    "# Bibliotecas necessárias\n",
    "import sympy as sp\n",
    "import numpy as np\n",
    "import matplotlib.pyplot as plt\n",
    "import control as ctrl"
   ]
  },
  {
   "cell_type": "code",
   "execution_count": null,
   "metadata": {},
   "outputs": [],
   "source": [
    "# Requisitos do projeto\n",
    "ERRO_DESEJADO = 2/100\n",
    "MG_DESEJADA = 2\n",
    "MF_DESEJADA = 30\n",
    "\n",
    "# Verifica se os requisitos do projeto foram atendidos\n",
    "def testar_requisitos(erro, MF, MG):\n",
    "  requisitos_nao_atendidos = []\n",
    "  if erro > ERRO_DESEJADO:\n",
    "    requisitos_nao_atendidos.append(\"erro\")\n",
    "  if MF <= MF_DESEJADA:\n",
    "    requisitos_nao_atendidos.append(\"MF\")\n",
    "  if MG <= MG_DESEJADA:\n",
    "    requisitos_nao_atendidos.append(\"MG\")\n",
    "  return requisitos_nao_atendidos"
   ]
  },
  {
   "cell_type": "code",
   "execution_count": null,
   "metadata": {},
   "outputs": [],
   "source": [
    "# Retorna as margens de estabilidade e afins\n",
    "def margens_de_estabilidade(ftma):\n",
    "  gm, pm, _, wpc, wgc, _ = ctrl.stability_margins(ftma)\n",
    "  \n",
    "  MG = gm  # Margem de ganho\n",
    "  MF = pm  # Margem de fase\n",
    "  freq0db = wgc  # Frequência de cruzamento de ganho (0 dB)\n",
    "  freq180 = wpc  # Frequência de cruzamento de fase (-180°)\n",
    "  fase_freq0db = pm - 180  # Fase na frequência de 0 dB\n",
    "  ganho_freq180 = -(20 * np.log10(gm))  # Ganho na frequência de -180°\n",
    "\n",
    "  return MG, MF, freq0db, freq180, fase_freq0db, ganho_freq180"
   ]
  },
  {
   "cell_type": "code",
   "execution_count": null,
   "metadata": {},
   "outputs": [],
   "source": [
    "# Define o valor de k_p do compensador proporcional\n",
    "def k_proporcional(G0, H0):\n",
    "  k_p = ((1 / ERRO_DESEJADO) - 1) / (G0*H0)\n",
    "  return k_p"
   ]
  },
  {
   "cell_type": "markdown",
   "metadata": {},
   "source": [
    "### Sistema sem compensação\n",
    "K = 1 E C(s) = 1"
   ]
  },
  {
   "cell_type": "code",
   "execution_count": null,
   "metadata": {},
   "outputs": [],
   "source": [
    "# Funções de transferência\n",
    "G_s = ctrl.tf([5],[0.2, 1])\n",
    "H_s = ctrl.tf([0.01],[0.04, 1])\n",
    "\n",
    "erro_sem_compensacao = 1 / (1 + ((G_s(0).real * H_s(0).real)))\n",
    "\n",
    "L_s_sem_compensacao = G_s * H_s\n",
    "\n",
    "MG_sem_compensacao, MF_sem_compensacao, _, _, _, _ = margens_de_estabilidade(L_s_sem_compensacao)\n",
    "\n",
    "resultado = testar_requisitos(erro_sem_compensacao, MF_sem_compensacao, MG_sem_compensacao)\n",
    "\n",
    "if not resultado:\n",
    "  print(f'\\nO sistema sem compensação já atende os requisitos do projeto')\n",
    "else:\n",
    "  print(f'\\nO sistema sem compensação não atende os requisitos do projeto. É necessário projetar um compensador')"
   ]
  },
  {
   "cell_type": "markdown",
   "metadata": {},
   "source": [
    "### Sistema com compensação proporcional\n",
    "$C(s) = k_p$"
   ]
  },
  {
   "cell_type": "code",
   "execution_count": null,
   "metadata": {},
   "outputs": [],
   "source": [
    "K = 1\n",
    "\n",
    "if 'erro' in resultado:\n",
    "  K = k_proporcional(G_s(0).real, H_s(0).real)\n",
    "  print(f\"Para e(∞) < {ERRO_DESEJADO}, K > {K:.2f}\")\n",
    "  \n",
    "  # A partir do K encontrado, determinar MF e MG e realizar novamente os testes\n",
    "  L_s_proporcional = float(K)*G_s*H_s\n",
    "  \n",
    "  # # Plotar o diagrama de bode\n",
    "  # w = np.logspace(-3, 3, 100000)\n",
    "  # titulo = f\"Diagrama de Bode do Sistema Com Compensação Proporcional (k_p = {K:.2f})\"\n",
    "  # # ctrl.bode_plot(L_s_proporcional, w, dB=True, Hz=False, deg=True, display_margins=True, title=titulo) # display_margins=True faz a execução ser lenta\n",
    "  # ctrl.bode_plot(L_s_proporcional, w, dB=True, Hz=False, deg=True, title=titulo)\n",
    "  \n",
    "  # Encontrar margens\n",
    "  MG, MF, freq0db, freq180, fase_freq0db, ganho_freq180 = margens_de_estabilidade(L_s_proporcional)\n",
    "  \n",
    "  print(f\"Para o sistema com compensação tipo P (k_p = {K:.2f}), temos que:\\n\")\n",
    "  print(f\"- A frequência de ganho 0dB é {freq0db:.0f} rad/s.\")\n",
    "  print(f\"- A fase na frequência de ganho 0 dB é {fase_freq0db:.2f}°.\")\n",
    "  print(f\"- A margem de fase é {MF:.0f}°.\")\n",
    "  print(f\"- A frequência de fase -180° é {freq180:.0f} rad/s.\")\n",
    "  print(f\"- O ganho na frequência de fase -180° é {ganho_freq180:.2f} dB.\")\n",
    "  print(f\"- A margem de ganho é {MG:.0f} dB.\")\n",
    "  \n",
    "  # Testar os requisitos para o compensador proporcional\n",
    "  erro = 1 / (1 + (K * (G_s(0).real * H_s(0).real)))\n",
    "  resultado = testar_requisitos(erro, MF, MG)\n",
    "\n",
    "  if not resultado:\n",
    "    print(f'\\nO compensador proporcional k_p = {K:.2f} foi suficiente para atender os requisitos do projeto')\n",
    "  else:\n",
    "    print(f'\\nO compensador proporcional k_p = {K:.2f} NÃO foi suficiente para atender os requisitos do projeto')"
   ]
  },
  {
   "cell_type": "markdown",
   "metadata": {},
   "source": [
    "### Sistema com compensação Avanço de Fase\n",
    "Nesse caso, temos que o valor da margem de fase é inferior ao desejado.\n",
    "\n",
    "Uma solução é utilizar um compensador avanço de fase para aumentar a margem de fase."
   ]
  },
  {
   "cell_type": "markdown",
   "metadata": {},
   "source": [
    "### Gráfico de variação de $ϕ_m$ em funçao de $α$\n",
    "![graficofasealfa.png](graficofasealfa.png)"
   ]
  },
  {
   "cell_type": "code",
   "execution_count": null,
   "metadata": {},
   "outputs": [],
   "source": [
    "if 'MF' in resultado:\n",
    "  MF_comp = MF_DESEJADA + 10 # compensar os desvios de fase aproximados na elaboração do diagrama de Bode\n",
    "  \n",
    "  acrescimo_fase = MF_comp - MF\n",
    "  avanco_max = acrescimo_fase + 7\n",
    "  print(f\"Verificar no gráfico de variação de ϕ_m em funçao de α, o valor de α para o ϕ_m = {avanco_max}\\n\")\n",
    "  alfa = input(\"Valor de α: \")\n",
    "\n",
    "  mag = np.sqrt(float(alfa))\n",
    "  magdB = 20*np.log10(mag)\n",
    "  \n",
    "  ganho, fase, frequencia = ctrl.bode_plot(L_s_proporcional, w, dB=True, Hz=False, deg=True, plot=False)\n",
    "  ganho = 20*np.log10(ganho)\n",
    "  fase = np.degrees(fase)\n",
    "  \n",
    "  indice = np.argmin(np.abs(ganho - magdB))\n",
    "  freq_wm = frequencia[indice]\n",
    "  \n",
    "  T = 1/(freq_wm*mag)\n",
    " \n",
    "  C_s = ctrl.tf([float(K)*T, float(K)], [alfa*T, 1])\n",
    "  \n",
    "  L_s_avanco = G_s*H_s*C_s\n",
    "\n",
    "  # # Plotar o diagrama de bode\n",
    "  # w = np.logspace(-3, 3, 100000)\n",
    "  # titulo = f\"Diagrama de Bode do Sistema Com Compensação LEAD (K = {K:.2f}, a = {alfa:.2f}, T = {T:.2f})\"\n",
    "  # ctrl.bode_plot(L_s_avanco, w, dB=True, Hz=False, deg=True, title=titulo)\n",
    "  \n",
    "  # Encontrar margens\n",
    "  MG, MF, freq0db, freq180, fase_freq0db, ganho_freq180 = margens_de_estabilidade(L_s_avanco)\n",
    "  \n",
    "  print(f\"Para o sistema com compensação tipo LEAD (K = {K:.2f}, a = {alfa:.2f}, T = {T:.2f}), temos que:\")\n",
    "  print(f\"- A frequência de ganho 0dB é {freq0db:.0f} rad/s.\")\n",
    "  print(f\"- A fase na frequência de ganho 0 dB é {fase_freq0db:.2f}°.\")\n",
    "  print(f\"- A margem de fase é {MF:.0f}°.\")\n",
    "  print(f\"- A frequência de fase -180° é {freq180:.0f} rad/s.\")\n",
    "  print(f\"- O ganho na frequência de fase -180° é {ganho_freq180:.2f} dB.\")\n",
    "  print(f\"- A margem de ganho é {MG:.0f} dB.\")\n",
    "  \n",
    "  # Testar os requisitos\n",
    "  erro = 1 / (1 + (G_s(0).real * H_s(0).real * C_s(0).real))\n",
    "  resultado = testar_requisitos(erro, MF, MG)\n",
    "\n",
    "  if not resultado:\n",
    "    print(f'\\nO compensador avanço de fase (K = {K:.2f}, a = {alfa:.2f}, T = {T:.2f}) foi suficiente para atender os requisitos do projeto')\n",
    "  else:\n",
    "    print(f'\\nO compensador avanço de fase (K = {K:.2f}, a = {alfa:.2f}, T = {T:.2f}) NÃO foi suficiente para atender os requisitos do projeto')"
   ]
  },
  {
   "cell_type": "markdown",
   "metadata": {},
   "source": [
    "### Comparando os gráficos com compensação P e LEAD"
   ]
  },
  {
   "cell_type": "code",
   "execution_count": null,
   "metadata": {},
   "outputs": [],
   "source": [
    "w = np.logspace(-3, 3, 100000)\n",
    "\n",
    "ganho1, fase1, frequencia = ctrl.bode_plot(L_s_proporcional, w, dB=True, Hz=False, deg=True, plot=False)\n",
    "ganho2, fase2, _ = ctrl.bode_plot(L_s_avanco, w, dB=True, Hz=False, deg=True, plot=False)\n",
    "\n",
    "fig, (ax1, ax2) = plt.subplots(2, 1, figsize=(10, 8))\n",
    "\n",
    "ax1.semilogx(frequencia, 20 * np.log10(ganho1), 'b', label='Compensador P')\n",
    "ax1.semilogx(frequencia, 20 * np.log10(ganho2), 'r--', label='Compensador LEAD')\n",
    "ax1.set_title('Diagrama de Bode')\n",
    "ax1.set_ylabel('magnitude (dB)')\n",
    "ax1.legend()\n",
    "ax1.grid(True, which=\"both\", ls=\"--\")\n",
    "\n",
    "ax2.semilogx(frequencia, np.degrees(fase1), 'b', label='Compensador P')\n",
    "ax2.semilogx(frequencia, np.degrees(fase2), 'r--', label='Compensador LEAD')\n",
    "ax2.set_xlabel('Frequência (rad/s)')\n",
    "ax2.set_ylabel('Fase (graus)')\n",
    "ax2.legend()\n",
    "ax2.grid(True, which=\"both\", ls=\"--\")\n",
    "\n",
    "plt.tight_layout()\n",
    "plt.show()"
   ]
  },
  {
   "cell_type": "code",
   "execution_count": null,
   "metadata": {},
   "outputs": [],
   "source": [
    "T_s_proporcional = ctrl.feedback(G_s*K, H_s)\n",
    "T_s_avanco = ctrl.feedback(G_s*C_s, H_s)\n",
    "\n",
    "t1, y1 = ctrl.step_response(T_s_proporcional)\n",
    "t2, y2 = ctrl.step_response(T_s_avanco)\n",
    "\n",
    "# fazer ambas as respostas para mesmo intervalo de tempo\n",
    "t = np.linspace(0, 1, num=500)\n",
    "y1 = np.interp(t, t1, y1)\n",
    "y2 = np.interp(t, t2, y2)\n",
    "\n",
    "plt.figure(figsize=(10, 6))\n",
    "plt.plot(t, y1, 'b', label='Compensador P')\n",
    "plt.plot(t, y2, 'r--', label='Compensador LEAD')\n",
    "\n",
    "plt.title('Resposta ao Degrau')\n",
    "plt.xlabel('Tempo (s)')\n",
    "plt.ylabel('Amplitude')\n",
    "plt.grid(True, which=\"both\", linestyle=\"--\", linewidth=0.7)\n",
    "plt.legend()\n",
    "plt.tight_layout()\n",
    "plt.show()"
   ]
  }
 ],
 "metadata": {
  "kernelspec": {
   "display_name": "Python 3",
   "language": "python",
   "name": "python3"
  },
  "language_info": {
   "codemirror_mode": {
    "name": "ipython",
    "version": 3
   },
   "file_extension": ".py",
   "mimetype": "text/x-python",
   "name": "python",
   "nbconvert_exporter": "python",
   "pygments_lexer": "ipython3",
   "version": "3.10.12"
  }
 },
 "nbformat": 4,
 "nbformat_minor": 2
}
