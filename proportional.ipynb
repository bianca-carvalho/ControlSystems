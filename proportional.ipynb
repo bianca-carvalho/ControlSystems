{
 "cells": [
  {
   "cell_type": "markdown",
   "metadata": {},
   "source": [
    "Para C(s) = 1 e G(s) = K/(s + 3)(s + 5) no sistema abaixo, mostre que o sistema não ́e capaz de operar sob um tempo de acomodação de 2/3 seg. e um máximo sobressinal de 1,5% mediante o ajuste de um único parâmetro (neste caso, o ganho K).\n",
    "\n",
    "\n",
    "<img src=\"documentos/diagrama_de_blocos.png\" alt=\"Gráfico\" width=\"500\">"
   ]
  },
  {
   "cell_type": "markdown",
   "metadata": {},
   "source": []
  }
 ],
 "metadata": {
  "language_info": {
   "name": "python"
  }
 },
 "nbformat": 4,
 "nbformat_minor": 2
}
