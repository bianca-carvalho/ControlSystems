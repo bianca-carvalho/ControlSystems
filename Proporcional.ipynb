{
 "cells": [
  {
   "cell_type": "markdown",
   "metadata": {},
   "source": [
    "## Projeto do compensador proporcional (tipo P)\n",
    "\n",
    "### Objetivo\n",
    "Reduzir o erro em regime permanente por meio de ajuste do ganho\n",
    "\n",
    "### Características\n",
    "- Reduz o erro\n",
    "- Altera o valor do ganho\n",
    "- Não adiciona pólos e zeros\n",
    "\n",
    "### Função de Transferência\n",
    "\n",
    "$C(s) = k_p$"
   ]
  },
  {
   "cell_type": "markdown",
   "metadata": {},
   "source": [
    "### Exercício  (SC_Cap6_01, exercício 01, página 03)\n",
    "\n",
    "Projete um controlador em atraso para um sistema de controle com realimentação negativa cujas funções de transferência são dadas abaixo.\n",
    "\n",
    "\n",
    "$G(s) = \\frac{5}{0,2s+1}$\n",
    "$H(s) = \\frac{0,01}{0,04s+1}$\n",
    "\n",
    "\n",
    "Deseja-se obter um erro de regime permanente inferior a 5%, margem de ganho MG > 2, e margem de fase MF > 30°\n",
    "\n"
   ]
  },
  {
   "cell_type": "code",
   "execution_count": null,
   "metadata": {},
   "outputs": [],
   "source": [
    "# Bibliotecas necessárias\n",
    "import numpy as np\n",
    "import matplotlib.pyplot as plt\n",
    "import control as ctrl\n",
    "import Funcoes as fc"
   ]
  },
  {
   "cell_type": "code",
   "execution_count": null,
   "metadata": {},
   "outputs": [],
   "source": [
    "# Requisitos do projeto\n",
    "ERRO_DESEJADO = 5/100\n",
    "MG_DESEJADA = 2\n",
    "MF_DESEJADA = 30\n",
    "\n",
    "# Verifica se os requisitos do projeto foram atendidos\n",
    "def testar_requisitos(erro, MF, MG):\n",
    "  requisitos_nao_atendidos = []\n",
    "  if erro > ERRO_DESEJADO:\n",
    "    print(f\"Erro NÃO atendido: {erro:.2%} (máx: {ERRO_DESEJADO:.2%})\")\n",
    "    requisitos_nao_atendidos.append(\"erro\")\n",
    "  if MF <= MF_DESEJADA:\n",
    "    print(f\"Margem de fase NÃO atendida: {MF:.2f}° (mín: {MF_DESEJADA}°)\")\n",
    "    requisitos_nao_atendidos.append(\"MF\")\n",
    "  if MG <= MG_DESEJADA:\n",
    "    print(f\"Margem de ganho NÃO atendida: {MG:.2f} dB (mín: {MG_DESEJADA} dB)\")\n",
    "    requisitos_nao_atendidos.append(\"MG\")\n",
    "  return requisitos_nao_atendidos"
   ]
  },
  {
   "cell_type": "markdown",
   "metadata": {},
   "source": [
    "### Sistema sem compensação\n",
    "$K = 1$ e $C(s) = 1$"
   ]
  },
  {
   "cell_type": "code",
   "execution_count": null,
   "metadata": {},
   "outputs": [],
   "source": [
    "# Funções de transferência\n",
    "G = ctrl.tf([5],[0.2, 1])\n",
    "G0 = G(0).real\n",
    "H = ctrl.tf([0.01],[0.04, 1])\n",
    "H0 = H(0).real\n",
    "\n",
    "erro = fc.erro_estacionario(G0, H0, 1)\n",
    "\n",
    "L_sem_compensacao = G * H\n",
    "\n",
    "MG, MF, _, _, _, _ = fc.margens_de_estabilidade(L_sem_compensacao)\n",
    "\n",
    "resultado = testar_requisitos(erro, MF, MG)\n",
    "\n",
    "if not resultado:\n",
    "  print(f'\\nO sistema sem compensação já atende os requisitos do projeto')\n",
    "else:\n",
    "  print(f'\\nO sistema sem compensação não atende os requisitos do projeto. É necessário projetar um compensador')"
   ]
  },
  {
   "cell_type": "markdown",
   "metadata": {},
   "source": [
    "### Sistema com compensação proporcional\n",
    "$C(s) = k_p$"
   ]
  },
  {
   "cell_type": "code",
   "execution_count": null,
   "metadata": {},
   "outputs": [],
   "source": [
    "K = 1\n",
    "\n",
    "if 'erro' in resultado:\n",
    "  K = float(fc.k_proporcional(G0, H0, ERRO_DESEJADO)) #numpy.float64 para float\n",
    "  print(f\"Para e(∞) < {ERRO_DESEJADO}, K > {K:.2f}\\n\")\n",
    "  \n",
    "  # A partir do K encontrado, determinar MF e MG e realizar novamente os testes\n",
    "  L_proporcional = K*G*H\n",
    "\n",
    "  # Encontrar margens\n",
    "  MG, MF, freq0db, freq180, fase_freq0db, ganho_freq180 = fc.margens_de_estabilidade(L_proporcional)\n",
    "  \n",
    "  print(f\"Para o sistema com compensação tipo P (k_p = {K:.2f}), temos que:\\n\")\n",
    "  \n",
    "  print(f\"- A frequência de ganho 0dB é {freq0db:.0f} rad/s.\")\n",
    "  print(f\"- A fase na frequência de ganho 0 dB é {fase_freq0db:.2f}°.\\n\")\n",
    "  \n",
    "  print(f\"- A frequência de fase -180° é {freq180:.0f} rad/s.\")\n",
    "  print(f\"- O ganho na frequência de fase -180° é {ganho_freq180:.2f} dB.\\n\")\n",
    "  \n",
    "  print(f\"- A margem de ganho é {MG:.0f} dB.\")\n",
    "  print(f\"- A margem de fase é {MF:.0f}°.\")\n",
    "  \n",
    "  # Testar os requisitos\n",
    "  erro = fc.erro_estacionario(G0, H0, C0 = K)\n",
    "  resultado = testar_requisitos(erro, MF, MG)\n",
    "\n",
    "  if not resultado:\n",
    "    print(f'\\nO compensador proporcional k_p = {K:.2f} foi suficiente para atender os requisitos do projeto')\n",
    "  else:\n",
    "    print(f'\\nO compensador proporcional k_p = {K:.2f} NÃO foi suficiente para atender os requisitos do projeto')"
   ]
  },
  {
   "cell_type": "markdown",
   "metadata": {},
   "source": [
    "### Comparando os gráficos com e sem compensação"
   ]
  },
  {
   "cell_type": "code",
   "execution_count": null,
   "metadata": {},
   "outputs": [],
   "source": [
    "w = np.logspace(-3, 3, 100000)\n",
    "\n",
    "mag1, phase1, omega = ctrl.bode_plot(L_sem_compensacao, w, dB=True, Hz=False, deg=True, plot=False)\n",
    "mag2, phase2, _ = ctrl.bode_plot(L_proporcional, w, dB=True, Hz=False, deg=True, plot=False)\n",
    "\n",
    "fig, (ax1, ax2) = plt.subplots(2, 1, figsize=(10, 8))\n",
    "\n",
    "ax1.semilogx(omega, 20 * np.log10(mag1), 'b', label='Sem Compensador')\n",
    "ax1.semilogx(omega, 20 * np.log10(mag2), 'r--', label='Compensador P')\n",
    "ax1.set_title('Diagrama de Bode')\n",
    "ax1.set_ylabel('Magnitude (dB)')\n",
    "ax1.legend()\n",
    "ax1.grid(True, which=\"both\", ls=\"--\")\n",
    "\n",
    "ax2.semilogx(omega, np.degrees(phase1), 'b', label='Sem Compensador')\n",
    "ax2.semilogx(omega, np.degrees(phase2), 'r--', label='Compensador P')\n",
    "ax2.set_xlabel('Frequência (rad/s)')\n",
    "ax2.set_ylabel('Fase (graus)')\n",
    "ax2.legend()\n",
    "ax2.grid(True, which=\"both\", ls=\"--\")\n",
    "\n",
    "plt.tight_layout()\n",
    "plt.show()"
   ]
  },
  {
   "cell_type": "code",
   "execution_count": null,
   "metadata": {},
   "outputs": [],
   "source": [
    "# depois de plotar o gráfico nota-se grande diferença entre t1 e t2, o que dificulta consideravelmente a comparação das duas respostas dentro de um mesmo gráfico\n",
    "# visualmente vi que o t1 vai até uns 0,5, e farei esse o tempo maximo para os dois plots\n",
    "\n",
    "T_sem_compensacao = ctrl.feedback(G, H)\n",
    "T_proporcional = ctrl.feedback(G*K, H)\n",
    "\n",
    "t1, y1 = ctrl.step_response(T_sem_compensacao)\n",
    "t2, y2 = ctrl.step_response(T_proporcional)\n",
    "\n",
    "# fazer ambas as respostas para mesmo intervalo de tempo\n",
    "t = np.linspace(0, 1, num=500)\n",
    "y1 = np.interp(t, t1, y1)\n",
    "y2 = np.interp(t, t2, y2)\n",
    "\n",
    "plt.figure(figsize=(10, 6))\n",
    "plt.plot(t, y1, 'b', label='Sem Compensador')\n",
    "plt.plot(t, y2, 'r--', label='Compensador P')\n",
    "\n",
    "plt.title('Resposta ao Degrau')\n",
    "plt.xlabel('Tempo (s)')\n",
    "plt.ylabel('Amplitude')\n",
    "plt.grid(True, which=\"both\", linestyle=\"--\", linewidth=0.7)\n",
    "plt.legend()\n",
    "plt.tight_layout()\n",
    "\n",
    "plt.show()"
   ]
  }
 ],
 "metadata": {
  "kernelspec": {
   "display_name": "Python 3",
   "language": "python",
   "name": "python3"
  },
  "language_info": {
   "codemirror_mode": {
    "name": "ipython",
    "version": 3
   },
   "file_extension": ".py",
   "mimetype": "text/x-python",
   "name": "python",
   "nbconvert_exporter": "python",
   "pygments_lexer": "ipython3",
   "version": "3.10.12"
  }
 },
 "nbformat": 4,
 "nbformat_minor": 2
}
