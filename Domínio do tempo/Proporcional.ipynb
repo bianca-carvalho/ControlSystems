{
 "cells": [
  {
   "cell_type": "markdown",
   "metadata": {},
   "source": [
    "## Projeto do compensador proporcional (tipo P)\n",
    "\n",
    "$C(s) = k_p$\n",
    "\n",
    "### SC_Cap4_02a\n",
    "\n",
    "Projete um controlador $C(s)$ do tipo proporcional que resulte em uma resposta do sistema (em malha fechada) caracterizada pelo coeficiente de amortecimento $\\epsilon = \\frac{\\sqrt 2}{2}$.\n",
    "\n",
    "$G(s) = \\frac{10}{s(s+10)}$\n",
    "\n",
    "$H(s) = 1$"
   ]
  }
 ],
 "metadata": {
  "language_info": {
   "name": "python"
  }
 },
 "nbformat": 4,
 "nbformat_minor": 2
}
